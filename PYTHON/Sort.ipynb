{
 "cells": [
  {
   "cell_type": "code",
   "execution_count": 67,
   "id": "d7fe9f40",
   "metadata": {},
   "outputs": [
    {
     "data": {
      "text/html": [
       "<div>\n",
       "<style scoped>\n",
       "    .dataframe tbody tr th:only-of-type {\n",
       "        vertical-align: middle;\n",
       "    }\n",
       "\n",
       "    .dataframe tbody tr th {\n",
       "        vertical-align: top;\n",
       "    }\n",
       "\n",
       "    .dataframe thead th {\n",
       "        text-align: right;\n",
       "    }\n",
       "</style>\n",
       "<table border=\"1\" class=\"dataframe\">\n",
       "  <thead>\n",
       "    <tr style=\"text-align: right;\">\n",
       "      <th></th>\n",
       "      <th>ID</th>\n",
       "      <th>animal</th>\n",
       "      <th>gender</th>\n",
       "      <th>nickname</th>\n",
       "      <th>dateofbirth</th>\n",
       "      <th>dateofarive</th>\n",
       "    </tr>\n",
       "  </thead>\n",
       "  <tbody>\n",
       "    <tr>\n",
       "      <th>0</th>\n",
       "      <td>42</td>\n",
       "      <td>cat</td>\n",
       "      <td>male</td>\n",
       "      <td>Pushok</td>\n",
       "      <td>13.09.2015</td>\n",
       "      <td>31.12.2016</td>\n",
       "    </tr>\n",
       "    <tr>\n",
       "      <th>1</th>\n",
       "      <td>43</td>\n",
       "      <td>dog</td>\n",
       "      <td>female</td>\n",
       "      <td>Dora</td>\n",
       "      <td>29.01.2015</td>\n",
       "      <td>31.12.2016</td>\n",
       "    </tr>\n",
       "    <tr>\n",
       "      <th>2</th>\n",
       "      <td>3</td>\n",
       "      <td>elephant</td>\n",
       "      <td>male</td>\n",
       "      <td>Archi</td>\n",
       "      <td>03.03.2011</td>\n",
       "      <td>31.12.2016</td>\n",
       "    </tr>\n",
       "    <tr>\n",
       "      <th>3</th>\n",
       "      <td>45</td>\n",
       "      <td>cat</td>\n",
       "      <td>female</td>\n",
       "      <td>Pushoka</td>\n",
       "      <td>13.09.2005</td>\n",
       "      <td>31.12.2016</td>\n",
       "    </tr>\n",
       "    <tr>\n",
       "      <th>4</th>\n",
       "      <td>33</td>\n",
       "      <td>dog</td>\n",
       "      <td>male</td>\n",
       "      <td>Doga</td>\n",
       "      <td>10.01.2015</td>\n",
       "      <td>31.12.2018</td>\n",
       "    </tr>\n",
       "  </tbody>\n",
       "</table>\n",
       "</div>"
      ],
      "text/plain": [
       "   ID    animal  gender nickname dateofbirth dateofarive\n",
       "0  42       cat    male   Pushok  13.09.2015  31.12.2016\n",
       "1  43       dog  female     Dora  29.01.2015  31.12.2016\n",
       "2   3  elephant    male    Archi  03.03.2011  31.12.2016\n",
       "3  45       cat  female  Pushoka  13.09.2005  31.12.2016\n",
       "4  33       dog    male     Doga  10.01.2015  31.12.2018"
      ]
     },
     "execution_count": 67,
     "metadata": {},
     "output_type": "execute_result"
    }
   ],
   "source": [
    "import pandas as pd\n",
    "import numpy as np\n",
    "\n",
    "\n",
    "data = pd.read_table('input.txt',sep='\\s+', engine='python')\n",
    "data.head()"
   ]
  },
  {
   "cell_type": "code",
   "execution_count": 98,
   "id": "0e3c9b7b",
   "metadata": {},
   "outputs": [
    {
     "name": "stdout",
     "output_type": "stream",
     "text": [
      "cat\n",
      "dog\n"
     ]
    }
   ],
   "source": [
    "s = data['animal'].value_counts()\n",
    "data = data.sort_values(by=['animal'])\n",
    "data.head()\n",
    "n = 0\n",
    "notPrint = True\n",
    "for i in range (0, len(s)):\n",
    "    male = False\n",
    "    female = False\n",
    "    for j in range (0, s[i]):\n",
    "        if(data.iloc[n]['gender'] == \"male\"):\n",
    "            male = True\n",
    "        if(data.iloc[n]['gender'] == \"female\"):\n",
    "            female = True\n",
    "        n += 1\n",
    "    if(male and female):\n",
    "        print(data.iloc[n-1]['animal'])\n",
    "        notPrint = False\n",
    "    \n",
    "if(notPrint):\n",
    "    print(0)\n",
    "    "
   ]
  },
  {
   "cell_type": "code",
   "execution_count": 78,
   "id": "9c57a4e9",
   "metadata": {},
   "outputs": [
    {
     "name": "stdout",
     "output_type": "stream",
     "text": [
      "cat  -  2\n",
      "dog  -  2\n",
      "elephant  -  1\n"
     ]
    }
   ],
   "source": [
    "n = 0\n",
    "for i in range (0,len(s)):\n",
    "    print(data.iloc[n]['animal'] , \" - \", s[i])\n",
    "    n += s[i]\n"
   ]
  },
  {
   "cell_type": "code",
   "execution_count": 82,
   "id": "48164d26",
   "metadata": {},
   "outputs": [
    {
     "data": {
      "text/html": [
       "<div>\n",
       "<style scoped>\n",
       "    .dataframe tbody tr th:only-of-type {\n",
       "        vertical-align: middle;\n",
       "    }\n",
       "\n",
       "    .dataframe tbody tr th {\n",
       "        vertical-align: top;\n",
       "    }\n",
       "\n",
       "    .dataframe thead th {\n",
       "        text-align: right;\n",
       "    }\n",
       "</style>\n",
       "<table border=\"1\" class=\"dataframe\">\n",
       "  <thead>\n",
       "    <tr style=\"text-align: right;\">\n",
       "      <th></th>\n",
       "      <th>date</th>\n",
       "      <th>sec</th>\n",
       "      <th>person</th>\n",
       "      <th>telephone</th>\n",
       "    </tr>\n",
       "  </thead>\n",
       "  <tbody>\n",
       "    <tr>\n",
       "      <th>0</th>\n",
       "      <td>2021.12.12</td>\n",
       "      <td>3</td>\n",
       "      <td>B</td>\n",
       "      <td>79090329400</td>\n",
       "    </tr>\n",
       "    <tr>\n",
       "      <th>1</th>\n",
       "      <td>2019.10.03</td>\n",
       "      <td>18</td>\n",
       "      <td>A</td>\n",
       "      <td>79999995454</td>\n",
       "    </tr>\n",
       "    <tr>\n",
       "      <th>2</th>\n",
       "      <td>2020.05.04</td>\n",
       "      <td>13</td>\n",
       "      <td>B</td>\n",
       "      <td>72352452532</td>\n",
       "    </tr>\n",
       "    <tr>\n",
       "      <th>3</th>\n",
       "      <td>2020.05.04</td>\n",
       "      <td>4</td>\n",
       "      <td>A</td>\n",
       "      <td>79023987567</td>\n",
       "    </tr>\n",
       "  </tbody>\n",
       "</table>\n",
       "</div>"
      ],
      "text/plain": [
       "         date  sec person    telephone\n",
       "0  2021.12.12    3      B  79090329400\n",
       "1  2019.10.03   18      A  79999995454\n",
       "2  2020.05.04   13      B  72352452532\n",
       "3  2020.05.04    4      A  79023987567"
      ]
     },
     "execution_count": 82,
     "metadata": {},
     "output_type": "execute_result"
    }
   ],
   "source": [
    "calls = pd.read_table('the_calls.txt',sep='\\s+', engine='python')\n",
    "\n",
    "calls.head()"
   ]
  },
  {
   "cell_type": "code",
   "execution_count": 89,
   "id": "e9709541",
   "metadata": {},
   "outputs": [
    {
     "data": {
      "text/html": [
       "<div>\n",
       "<style scoped>\n",
       "    .dataframe tbody tr th:only-of-type {\n",
       "        vertical-align: middle;\n",
       "    }\n",
       "\n",
       "    .dataframe tbody tr th {\n",
       "        vertical-align: top;\n",
       "    }\n",
       "\n",
       "    .dataframe thead th {\n",
       "        text-align: right;\n",
       "    }\n",
       "</style>\n",
       "<table border=\"1\" class=\"dataframe\">\n",
       "  <thead>\n",
       "    <tr style=\"text-align: right;\">\n",
       "      <th></th>\n",
       "      <th>date</th>\n",
       "      <th>sec</th>\n",
       "      <th>person</th>\n",
       "      <th>telephone</th>\n",
       "    </tr>\n",
       "  </thead>\n",
       "  <tbody>\n",
       "    <tr>\n",
       "      <th>1</th>\n",
       "      <td>2019.10.03</td>\n",
       "      <td>18</td>\n",
       "      <td>A</td>\n",
       "      <td>79999995454</td>\n",
       "    </tr>\n",
       "    <tr>\n",
       "      <th>3</th>\n",
       "      <td>2020.05.04</td>\n",
       "      <td>4</td>\n",
       "      <td>A</td>\n",
       "      <td>79023987567</td>\n",
       "    </tr>\n",
       "    <tr>\n",
       "      <th>2</th>\n",
       "      <td>2020.05.04</td>\n",
       "      <td>13</td>\n",
       "      <td>B</td>\n",
       "      <td>72352452532</td>\n",
       "    </tr>\n",
       "    <tr>\n",
       "      <th>0</th>\n",
       "      <td>2021.12.12</td>\n",
       "      <td>3</td>\n",
       "      <td>B</td>\n",
       "      <td>79090329400</td>\n",
       "    </tr>\n",
       "  </tbody>\n",
       "</table>\n",
       "</div>"
      ],
      "text/plain": [
       "         date  sec person    telephone\n",
       "1  2019.10.03   18      A  79999995454\n",
       "3  2020.05.04    4      A  79023987567\n",
       "2  2020.05.04   13      B  72352452532\n",
       "0  2021.12.12    3      B  79090329400"
      ]
     },
     "execution_count": 89,
     "metadata": {},
     "output_type": "execute_result"
    }
   ],
   "source": [
    "calls = calls.sort_values(by=['person', 'sec'], ascending = [True, False] )\n",
    "calls.head()"
   ]
  },
  {
   "cell_type": "code",
   "execution_count": 97,
   "id": "a2830057",
   "metadata": {},
   "outputs": [],
   "source": [
    "np.savetxt(r'calls.txt', calls.values, fmt='%s')"
   ]
  },
  {
   "cell_type": "code",
   "execution_count": null,
   "id": "e3079d26",
   "metadata": {},
   "outputs": [],
   "source": []
  }
 ],
 "metadata": {
  "kernelspec": {
   "display_name": "Python 3 (ipykernel)",
   "language": "python",
   "name": "python3"
  },
  "language_info": {
   "codemirror_mode": {
    "name": "ipython",
    "version": 3
   },
   "file_extension": ".py",
   "mimetype": "text/x-python",
   "name": "python",
   "nbconvert_exporter": "python",
   "pygments_lexer": "ipython3",
   "version": "3.9.12"
  }
 },
 "nbformat": 4,
 "nbformat_minor": 5
}
