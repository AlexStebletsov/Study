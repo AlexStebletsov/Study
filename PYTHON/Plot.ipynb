{
 "cells": [
  {
   "cell_type": "code",
   "execution_count": 123,
   "id": "4619534c",
   "metadata": {},
   "outputs": [
    {
     "data": {
      "image/png": "[encoded data removed]",
      "text/plain": [
       "<Figure size 432x288 with 1 Axes>"
      ]
     },
     "metadata": {
      "needs_background": "light"
     },
     "output_type": "display_data"
    }
   ],
   "source": [
    "from matplotlib import pyplot as plt\n",
    "import numpy as np\n",
    "import scipy.optimize\n",
    "\n",
    "\n",
    "y = lambda x: np.arctan(-0.0012*x**3 + 0.4*x**2+ 0.616*x + 6120) + 0.65*np.sin(0.24*x + 1.23) - 0.27*np.cos(0.21*x - 0.17) - (np.sin(0.34*x + 0.16))/(1 + 0.03*(x - 370.5)*2)\n",
    "\n",
    "\n",
    "x = np.linspace(-1000, 1000,100)\n",
    "\n",
    "plt.plot(x, y(x))\n",
    "\n",
    "plt.title(\"Graph\")   \n",
    "plt.ylabel('Y axis')   \n",
    "plt.xlabel('X axis')   \n",
    "plt.show()"
   ]
  },
  {
   "cell_type": "code",
   "execution_count": 142,
   "id": "a3e8f62a",
   "metadata": {
    "scrolled": false
   },
   "outputs": [
    {
     "name": "stdout",
     "output_type": "stream",
     "text": [
      "20   371.6395378112793\n"
     ]
    }
   ],
   "source": [
    "#-36.69672688\n",
    "esp = 0.0001\n",
    "a = 300\n",
    "b = 400\n",
    "\n",
    "count = 0\n",
    "y = lambda x: np.arctan(-0.0012*x**3 + 0.4*x**2+ 0.616*x + 6120) + 0.65*np.sin(0.24*x + 1.23) - 0.27*np.cos(0.21*x - 0.17) - (np.sin(0.34*x + 0.16))/(1 + 0.03*(x - 370.5)*2)\n",
    "\n",
    "while (abs(b - a) > esp) and (count < 10000):\n",
    "        x = (a + b) / 2.0\n",
    "        fx = y(x)\n",
    "        fa = y(a)\n",
    "        if (fx < 0 and fa < 0) or (fx > 0 and fa > 0):\n",
    "            a = x\n",
    "        else:\n",
    "            b = x\n",
    "        count += 1\n",
    "\n",
    "print(count,\" \", x) \n",
    "\n",
    "\n",
    "\n",
    "  \n",
    "   \n"
   ]
  },
  {
   "cell_type": "code",
   "execution_count": null,
   "id": "1e4335f5",
   "metadata": {},
   "outputs": [],
   "source": []
  }
 ],
 "metadata": {
  "kernelspec": {
   "display_name": "Python 3 (ipykernel)",
   "language": "python",
   "name": "python3"
  },
  "language_info": {
   "codemirror_mode": {
    "name": "ipython",
    "version": 3
   },
   "file_extension": ".py",
   "mimetype": "text/x-python",
   "name": "python",
   "nbconvert_exporter": "python",
   "pygments_lexer": "ipython3",
   "version": "3.9.12"
  }
 },
 "nbformat": 4,
 "nbformat_minor": 5
}
